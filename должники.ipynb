{
 "cells": [
  {
   "cell_type": "code",
   "execution_count": 7,
   "metadata": {},
   "outputs": [],
   "source": [
    "import pandas as pd\n",
    "import numpy as np\n",
    "import random\n",
    "import matplotlib.pyplot as plt"
   ]
  },
  {
   "cell_type": "code",
   "execution_count": 24,
   "metadata": {},
   "outputs": [
    {
     "ename": "TypeError",
     "evalue": "random() got an unexpected keyword argument 'scale'",
     "output_type": "error",
     "traceback": [
      "\u001b[1;31m---------------------------------------------------------------------------\u001b[0m",
      "\u001b[1;31mTypeError\u001b[0m                                 Traceback (most recent call last)",
      "Cell \u001b[1;32mIn[24], line 1\u001b[0m\n\u001b[1;32m----> 1\u001b[0m debtPeriodDf \u001b[38;5;241m=\u001b[39m \u001b[43mnp\u001b[49m\u001b[38;5;241;43m.\u001b[39;49m\u001b[43mrandom\u001b[49m\u001b[38;5;241;43m.\u001b[39;49m\u001b[43mrandom\u001b[49m\u001b[43m(\u001b[49m\u001b[43m \u001b[49m\u001b[43mscale\u001b[49m\u001b[38;5;241;43m=\u001b[39;49m\u001b[38;5;241;43m5000\u001b[39;49m\u001b[43m,\u001b[49m\u001b[43m \u001b[49m\u001b[43msize\u001b[49m\u001b[38;5;241;43m=\u001b[39;49m\u001b[38;5;241;43m10000\u001b[39;49m\u001b[43m)\u001b[49m\n\u001b[0;32m      2\u001b[0m debtPeriodDf \u001b[38;5;241m=\u001b[39m pd\u001b[38;5;241m.\u001b[39mDataFrame(debtPeriodDf)\n\u001b[0;32m      3\u001b[0m debtPeriodDf \u001b[38;5;241m=\u001b[39m debtPeriodDf\u001b[38;5;241m.\u001b[39mrename(columns\u001b[38;5;241m=\u001b[39m{\u001b[38;5;241m0\u001b[39m : \u001b[38;5;124m'\u001b[39m\u001b[38;5;124mdebtPeriod\u001b[39m\u001b[38;5;124m'\u001b[39m})\n",
      "File \u001b[1;32mnumpy\\\\random\\\\mtrand.pyx:443\u001b[0m, in \u001b[0;36mnumpy.random.mtrand.RandomState.random\u001b[1;34m()\u001b[0m\n",
      "\u001b[1;31mTypeError\u001b[0m: random() got an unexpected keyword argument 'scale'"
     ]
    }
   ],
   "source": [
    "debtPeriodDf = np.random.normal(loc=0, scale=5000, size=10000)\n",
    "debtPeriodDf = pd.DataFrame(debtPeriodDf)\n",
    "debtPeriodDf = debtPeriodDf.rename(columns={0 : 'debtPeriod'})\n",
    "\n",
    "min_val = debtPeriodDf.min()\n",
    "max_val = debtPeriodDf.max()\n",
    "\n",
    "debtPeriodDf = 150 * (debtPeriodDf - min_val) / (max_val - min_val)\n",
    "print(debtPeriodDf)"
   ]
  },
  {
   "cell_type": "code",
   "execution_count": 9,
   "metadata": {},
   "outputs": [
    {
     "name": "stdout",
     "output_type": "stream",
     "text": [
      "        debtSum\n",
      "0     68.542078\n",
      "1     72.941757\n",
      "2     91.273150\n",
      "3     78.504893\n",
      "4     79.670417\n",
      "...         ...\n",
      "9995  66.587279\n",
      "9996  89.729491\n",
      "9997  72.105871\n",
      "9998  69.990256\n",
      "9999  63.050786\n",
      "\n",
      "[10000 rows x 1 columns]\n"
     ]
    }
   ],
   "source": [
    "debtSumDf = np.random.normal(loc=0, scale=1, size=10000)\n",
    "debtSumDf = pd.DataFrame(debtSumDf)\n",
    "debtSumDf = debtSumDf.rename(columns={0 : 'debtSum'})\n",
    "\n",
    "min_val = debtSumDf.min()\n",
    "max_val = debtSumDf.max()\n",
    "\n",
    "debtSumDf = 100 * (debtSumDf - min_val) / (max_val - min_val) + 20\n",
    "print(debtSumDf)"
   ]
  },
  {
   "cell_type": "code",
   "execution_count": 10,
   "metadata": {},
   "outputs": [],
   "source": [
    "def randomBool(prob):\n",
    "    return random.random() < prob"
   ]
  },
  {
   "cell_type": "code",
   "execution_count": 18,
   "metadata": {},
   "outputs": [
    {
     "data": {
      "image/png": "[encoded data removed]",
      "text/plain": [
       "<Figure size 640x480 with 1 Axes>"
      ]
     },
     "metadata": {},
     "output_type": "display_data"
    }
   ],
   "source": [
    "p = [30, 60, 90, 120]\n",
    "debtCountExtInGroupDf = [0,0,0,0,0]\n",
    "debtCountInGroupDf = [0,0,0,0,0]\n",
    "debtExtDf = []\n",
    "debtExtGroupDf = []\n",
    "for i in debtPeriodDf['debtPeriod']:\n",
    "    if i < p[0]:\n",
    "        debtExtGroupDf.append(0)\n",
    "        a = randomBool(0.1)\n",
    "        debtExtDf.append(a)\n",
    "        debtCountInGroupDf[0] += 1\n",
    "        if a:\n",
    "            debtCountExtInGroupDf[0] += 1\n",
    "    elif i < p[1]:\n",
    "        debtExtGroupDf.append(1)\n",
    "        a = randomBool(0.3)\n",
    "        debtExtDf.append(a)\n",
    "        debtCountInGroupDf[1] += 1\n",
    "        if a:\n",
    "            debtCountExtInGroupDf[1] += 1\n",
    "    elif i < p[2]:\n",
    "        debtExtGroupDf.append(2)\n",
    "        a = randomBool(0.5)\n",
    "        debtExtDf.append(a)\n",
    "        debtCountInGroupDf[2] += 1\n",
    "        if a:\n",
    "            debtCountExtInGroupDf[2] += 1\n",
    "    elif i < p[3]:\n",
    "        debtExtGroupDf.append(3)\n",
    "        a = randomBool(0.7)\n",
    "        debtExtDf.append(a)\n",
    "        debtCountInGroupDf[3] += 1\n",
    "        if a:\n",
    "            debtCountExtInGroupDf[3] += 1\n",
    "    else:\n",
    "        debtExtGroupDf.append(4)\n",
    "        a = randomBool(0.9)\n",
    "        debtExtDf.append(a)\n",
    "        debtCountInGroupDf[4] += 1\n",
    "        if a:\n",
    "            debtCountExtInGroupDf[4] += 1\n",
    "\n",
    "\n",
    "plt.hist(debtExtGroupDf, bins=5, edgecolor='black', alpha=0.7)\n",
    "plt.show()"
   ]
  },
  {
   "cell_type": "code",
   "execution_count": 19,
   "metadata": {},
   "outputs": [
    {
     "name": "stdout",
     "output_type": "stream",
     "text": [
      "      debtPeriod    debtSum  debtExt  debtExtGroup\n",
      "0      80.721907  68.542078     True             2\n",
      "1      88.243230  72.941757    False             2\n",
      "2      46.849627  91.273150    False             1\n",
      "3      79.182342  78.504893    False             2\n",
      "4      64.107753  79.670417    False             2\n",
      "...          ...        ...      ...           ...\n",
      "9995   86.832976  66.587279    False             2\n",
      "9996   57.550818  89.729491    False             1\n",
      "9997   79.001181  72.105871     True             2\n",
      "9998   61.559461  69.990256    False             2\n",
      "9999   78.390657  63.050786     True             2\n",
      "\n",
      "[10000 rows x 4 columns]\n"
     ]
    }
   ],
   "source": [
    "df0 = pd.merge(debtPeriodDf, debtSumDf, left_index=True, right_index=True)\n",
    "debtExtDf = pd.DataFrame(debtExtDf)\n",
    "debtExtDf = debtExtDf.rename(columns={0 : 'debtExt'})\n",
    "debtExtGroupDf = pd.DataFrame(debtExtGroupDf)\n",
    "debtExtGroupDf = debtExtGroupDf.rename(columns={0 : 'debtExtGroup'})\n",
    "df1 = pd.merge(debtExtDf, debtExtGroupDf, left_index=True, right_index=True)\n",
    "df = pd.merge(df0, df1, left_index=True, right_index=True)\n",
    "print(df)"
   ]
  },
  {
   "cell_type": "code",
   "execution_count": 20,
   "metadata": {},
   "outputs": [
    {
     "name": "stdout",
     "output_type": "stream",
     "text": [
      "[0.10191082802547771, 0.30402104472003005, 0.5029157094893091, 0.6955040871934605, 0.8909090909090909]\n"
     ]
    }
   ],
   "source": [
    "debtPer = []\n",
    "debtPer1 = []\n",
    "for i in range(5):\n",
    "    debtPer1.append(1 - (debtCountExtInGroupDf[i]/debtCountInGroupDf[i]))\n",
    "    debtPer.append((debtCountExtInGroupDf[i]/debtCountInGroupDf[i]))\n",
    "\n",
    "print(debtPer)\n",
    "\n",
    "categories = ['0 - 30', '30 - 60', '60 - 90', '90 - 120', '> 120']"
   ]
  },
  {
   "cell_type": "code",
   "execution_count": 22,
   "metadata": {},
   "outputs": [
    {
     "data": {
      "text/plain": [
       "<function matplotlib.pyplot.show(close=None, block=None)>"
      ]
     },
     "execution_count": 22,
     "metadata": {},
     "output_type": "execute_result"
    },
    {
     "data": {
      "image/png": "[encoded data removed]",
      "text/plain": [
       "<Figure size 640x480 with 1 Axes>"
      ]
     },
     "metadata": {},
     "output_type": "display_data"
    }
   ],
   "source": [
    "plt.bar(categories, debtPer, color = 'skyblue', edgecolor = 'black')\n",
    "plt.bar(categories, debtPer1, bottom = debtPer, color = 'red', edgecolor = 'black')\n",
    "for i, percent in enumerate(debtPer):\n",
    "    plt.text(i, percent, f'{percent:.3f}%',  ha = 'center', va = 'bottom')\n",
    "plt.show"
   ]
  }
 ],
 "metadata": {
  "kernelspec": {
   "display_name": "Python 3",
   "language": "python",
   "name": "python3"
  },
  "language_info": {
   "codemirror_mode": {
    "name": "ipython",
    "version": 3
   },
   "file_extension": ".py",
   "mimetype": "text/x-python",
   "name": "python",
   "nbconvert_exporter": "python",
   "pygments_lexer": "ipython3",
   "version": "3.12.7"
  }
 },
 "nbformat": 4,
 "nbformat_minor": 2
}
